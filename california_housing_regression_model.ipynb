{
 "cells": [
  {
   "cell_type": "code",
   "execution_count": null,
   "id": "fb018967-c5de-44db-9aea-a093c5bb5cc4",
   "metadata": {},
   "outputs": [],
   "source": [
    "import numpy as np\n",
    "import pandas as pd\n",
    "from sklearn.model_selection import train_test_split\n",
    "from sklearn.model_selection import StratifiedShuffleSplit\n",
    "import matplotlib.pyplot as plt\n",
    "import seaborn as sns\n",
    "from sklearn.impute import SimpleImputer\n",
    "from sklearn.preprocessing import OneHotEncoder\n",
    "from sklearn.preprocessing import StandardScaler\n",
    "from sklearn.preprocessing import PowerTransformer\n",
    "from sklearn.linear_model import LinearRegression\n",
    "from sklearn.metrics import mean_squared_error, mean_absolute_error, r2_score\n",
    "from sklearn.tree import DecisionTreeRegressor\n",
    "from sklearn.model_selection import cross_val_score\n",
    "from sklearn.model_selection import GridSearchCV\n",
    "from sklearn.ensemble import RandomForestRegressor\n",
    "from sklearn.model_selection import RandomizedSearchCV\n",
    "## numerical_attributes -> numerical categories of X_train"
   ]
  },
  {
   "cell_type": "code",
   "execution_count": null,
   "id": "45b29dfd-58db-4660-bc8e-2b88b3da4576",
   "metadata": {},
   "outputs": [],
   "source": [
    "housing = pd.read_csv(r\"C:\\Users\\Ganesh P\\Desktop\\JUPYTER LAB\\housing.csv\")\n",
    "housing "
   ]
  },
  {
   "cell_type": "code",
   "execution_count": null,
   "id": "d966a13e-28b8-41d8-82df-cdb37d809580",
   "metadata": {},
   "outputs": [],
   "source": [
    "y = housing[\"median_house_value\"]"
   ]
  },
  {
   "cell_type": "markdown",
   "id": "7a70f564-1fd9-440a-a6eb-c477b579cba7",
   "metadata": {},
   "source": [
    "## Stratified Shuffle Splitting data for equal distribution of data in test and train splits "
   ]
  },
  {
   "cell_type": "code",
   "execution_count": null,
   "id": "f1316e74-b696-4055-b080-ca93b11e6db5",
   "metadata": {},
   "outputs": [],
   "source": [
    "attributes = housing.columns\n",
    "attributes\n",
    "housing[\"income_cat\"] = pd.cut(\n",
    "    housing[\"median_income\"],\n",
    "    bins = [0.0, 1.5, 3.0, 4.5, 6.0, np.inf],\n",
    "    labels=[1,2,3,4,5]\n",
    ")"
   ]
  },
  {
   "cell_type": "code",
   "execution_count": null,
   "id": "4c0bcecf-829b-49f7-8e3c-0bd13aec0c2a",
   "metadata": {},
   "outputs": [],
   "source": [
    "X = housing.drop(\"median_house_value\", axis=1)"
   ]
  },
  {
   "cell_type": "code",
   "execution_count": null,
   "id": "3100f481-0b47-44fb-aadb-ca50c9f8fc1b",
   "metadata": {},
   "outputs": [],
   "source": [
    "split = StratifiedShuffleSplit(n_splits=1, test_size=0.2, random_state=42)\n",
    "for train_index , test_index in split.split(housing,housing[\"income_cat\"]):\n",
    "    train_set = housing.loc[train_index]\n",
    "    test_set = housing.loc[test_index]"
   ]
  },
  {
   "cell_type": "code",
   "execution_count": null,
   "id": "da86744c-d477-434d-9c2a-cbdda058fcae",
   "metadata": {},
   "outputs": [],
   "source": [
    "for i in (train_set, test_set):\n",
    "    i.drop([\"income_cat\"], axis=1, inplace=True)"
   ]
  },
  {
   "cell_type": "code",
   "execution_count": null,
   "id": "4bc3167c-914b-47e2-aad9-8aed1c45c199",
   "metadata": {},
   "outputs": [],
   "source": [
    "X_train = train_set.drop(\"median_house_value\", axis=1)\n",
    "Y_train = train_set[\"median_house_value\"].copy()\n",
    "X_test = test_set.drop(\"median_house_value\", axis=1)\n",
    "Y_test = test_set[\"median_house_value\"].copy()"
   ]
  },
  {
   "cell_type": "markdown",
   "id": "f587ec41-5f67-44e4-a12a-ac43f7ff07df",
   "metadata": {},
   "source": [
    "## Exploring and Vizualizing the Data"
   ]
  },
  {
   "cell_type": "code",
   "execution_count": null,
   "id": "040c4c81-20f0-45b5-86e6-ffb661c93de3",
   "metadata": {},
   "outputs": [],
   "source": [
    "X_train"
   ]
  },
  {
   "cell_type": "code",
   "execution_count": null,
   "id": "a0030b8c-f266-4e87-8f3c-0ed704437135",
   "metadata": {},
   "outputs": [],
   "source": [
    "plt.figure(figsize=(10,5))\n",
    "sns.histplot(X_train[\"housing_median_age\"], bins=25, alpha=1, kde=True)\n",
    "plt.title(\"Distribution of median house age\")"
   ]
  },
  {
   "cell_type": "code",
   "execution_count": null,
   "id": "399396fd-db77-4543-8b51-9e672f8c4c43",
   "metadata": {},
   "outputs": [],
   "source": [
    "X_train.hist(bins=50, figsize=(10,8))"
   ]
  },
  {
   "cell_type": "code",
   "execution_count": null,
   "id": "c6c0dcc4-8a9f-42e4-a03b-146c47b3def0",
   "metadata": {},
   "outputs": [],
   "source": [
    "corr_set = train_set.drop(\"ocean_proximity\", axis=1)"
   ]
  },
  {
   "cell_type": "code",
   "execution_count": null,
   "id": "30ac67a8-a331-44cd-8943-74b0a8344bc6",
   "metadata": {},
   "outputs": [],
   "source": [
    "corr_matrix = corr_set.corr()"
   ]
  },
  {
   "cell_type": "code",
   "execution_count": null,
   "id": "942106ec-0b6c-4a19-b92d-ade29f39aa6c",
   "metadata": {},
   "outputs": [],
   "source": [
    "corr_matrix[\"median_house_value\"].sort_values(ascending=True)"
   ]
  },
  {
   "cell_type": "code",
   "execution_count": null,
   "id": "c4d2a369-64d5-4b58-8452-f0a221c726f2",
   "metadata": {},
   "outputs": [],
   "source": [
    "plt.figure(figsize=(10,8))\n",
    "train_set.plot(kind=\"scatter\",x=\"latitude\", y=\"longitude\", grid=True, c=\"median_house_value\",cmap=\"magma\", colorbar=True, legend=True, alpha=0.2)\n",
    "plt.grid(True)"
   ]
  },
  {
   "cell_type": "code",
   "execution_count": null,
   "id": "47d893fb-d4bd-445f-a8f8-62c65fff2cd9",
   "metadata": {},
   "outputs": [],
   "source": [
    "plt.figure(figsize=(10,8))\n",
    "sns.heatmap(\n",
    "    corr_matrix,\n",
    "    annot = True,\n",
    "    fmt=\".2f\",\n",
    "    cmap= \"coolwarm\",\n",
    "    cbar=True,\n",
    "    alpha=1\n",
    ")"
   ]
  },
  {
   "cell_type": "markdown",
   "id": "0ae3f19c-9ada-4f5c-9565-c1a02a91dabd",
   "metadata": {},
   "source": [
    "## Imputation part"
   ]
  },
  {
   "cell_type": "code",
   "execution_count": null,
   "id": "cd89d63a-5b65-433c-938b-fb76e254d92f",
   "metadata": {},
   "outputs": [],
   "source": [
    "simpleimputer = SimpleImputer(strategy=\"median\")"
   ]
  },
  {
   "cell_type": "code",
   "execution_count": null,
   "id": "5c263e8b-cf12-4958-85d5-142ed44bc31d",
   "metadata": {},
   "outputs": [],
   "source": [
    "X_train_num = X_train.select_dtypes(include=[np.number])\n",
    "X_test_num = X_test.select_dtypes(include=[np.number])"
   ]
  },
  {
   "cell_type": "code",
   "execution_count": null,
   "id": "5b4c60cc-07c8-4398-bdde-23400786bb1f",
   "metadata": {},
   "outputs": [],
   "source": [
    "simpleimputer.fit(X_train_num)\n",
    "# fit the data for train_set and transform both train and test set"
   ]
  },
  {
   "cell_type": "code",
   "execution_count": null,
   "id": "f5f53071-d73d-496f-ba03-12791138a57a",
   "metadata": {},
   "outputs": [],
   "source": [
    "X_train_imputed = simpleimputer.transform(X_train_num)"
   ]
  },
  {
   "cell_type": "code",
   "execution_count": null,
   "id": "11ddadc6-a066-466e-9d02-e407d10ea787",
   "metadata": {},
   "outputs": [],
   "source": [
    "X_test_imputed = simpleimputer.transform(X_test_num)"
   ]
  },
  {
   "cell_type": "code",
   "execution_count": null,
   "id": "ebb29e7e-511c-4c60-a9f7-56e7698acf1f",
   "metadata": {},
   "outputs": [],
   "source": [
    "X_test_imputed_df = pd.DataFrame(\n",
    "    X_test_imputed,\n",
    "    columns=X_test_num.columns,\n",
    "    index = X_test_num.index\n",
    ")"
   ]
  },
  {
   "cell_type": "code",
   "execution_count": null,
   "id": "2fe7b1cf-a4f5-4c05-82ed-96a4de642c18",
   "metadata": {},
   "outputs": [],
   "source": [
    "X_test.loc[:,X_test_imputed_df.columns]= X_test_imputed_df"
   ]
  },
  {
   "cell_type": "code",
   "execution_count": null,
   "id": "959d5749-1238-4b95-a104-6282232b8e18",
   "metadata": {},
   "outputs": [],
   "source": [
    "X_test.info()"
   ]
  },
  {
   "cell_type": "code",
   "execution_count": null,
   "id": "a591d7c9-3b32-42f1-9706-5d4f26f8f78c",
   "metadata": {},
   "outputs": [],
   "source": [
    "X_train_imputed.shape"
   ]
  },
  {
   "cell_type": "code",
   "execution_count": null,
   "id": "2b635a74-b115-4897-b8eb-500d79743092",
   "metadata": {},
   "outputs": [],
   "source": [
    "X_train_imputed_df = pd.DataFrame(\n",
    "    X_train_imputed,\n",
    "    columns= X_train_num.columns,\n",
    "    index= X_train_num.index\n",
    ")"
   ]
  },
  {
   "cell_type": "code",
   "execution_count": null,
   "id": "bfc60f61-23eb-4c07-8a0e-a2787d943dcc",
   "metadata": {},
   "outputs": [],
   "source": [
    "X_train.loc[:,X_train_imputed_df.columns] = X_train_imputed_df"
   ]
  },
  {
   "cell_type": "markdown",
   "id": "b5e6f248-8e9b-4d85-84d3-1e1a92895022",
   "metadata": {},
   "source": [
    "## Feature Engineering"
   ]
  },
  {
   "cell_type": "markdown",
   "id": "75c53ac5-f410-4076-a157-3a93da7a2dc7",
   "metadata": {},
   "source": [
    "#### creating a column for nearest costal city distance and nearest major city distance"
   ]
  },
  {
   "cell_type": "code",
   "execution_count": null,
   "id": "23cf644a-9e93-4ca8-85ed-b9e567ac098f",
   "metadata": {},
   "outputs": [],
   "source": [
    "coastal_points = [\n",
    "    (42.0 , -124.4),  # Near Oregon border\n",
    "    (38.0, -123.0),   # Northern California\n",
    "    (36.6, -121.9),   # Central Californai\n",
    "    (34.0, -118.5),   # Los Angeles Area\n",
    "    (32.5, -117.0)    # San Diego\n",
    "]\n",
    "city_points = [\n",
    "    (34.0522, -118.2437),\n",
    "    (37.7749, -122.4194),\n",
    "    (32.7157, -117.1611),\n",
    "    (38.5816, -121.4944),\n",
    "    (37.3382, -121.8863)\n",
    "]\n",
    "\n",
    "def distance_to_coast(lat, lon, coastal_points):\n",
    "    distances = [np.sqrt((lat - C_lat)**2 + (lon - C_lon)**2) for C_lat, C_lon in coastal_points]\n",
    "    return np.min(distances)\n",
    "def distance_to_majorcities(lat, lon, city_points):\n",
    "    distances = [np.sqrt((lat - Ci_lat)**2 + (lon - Ci_lon)**2) for Ci_lat, Ci_lon in city_points]\n",
    "    return np.min(distances)\n",
    "\n",
    "X_train[\"dist_to_coast\"] = X_train.apply(lambda row: distance_to_coast(row[\"latitude\"], row[\"longitude\"], coastal_points), axis=1)\n",
    "X_train[\"dist_to_city\"] = X_train.apply(lambda a: distance_to_majorcities(a[\"latitude\"], a[\"longitude\"], city_points), axis=1)\n",
    "X_test[\"dist_to_coast\"] = X_test.apply(lambda row: distance_to_coast(row[\"latitude\"], row[\"longitude\"], coastal_points), axis=1)\n",
    "X_test[\"dist_to_city\"] = X_test.apply(lambda a: distance_to_majorcities(a[\"latitude\"], a[\"longitude\"], city_points), axis=1)"
   ]
  },
  {
   "cell_type": "markdown",
   "id": "eece216e-cba4-4f5f-aa44-e09b8b72ecee",
   "metadata": {},
   "source": [
    "### log transforming catrgories that all Right Skewed"
   ]
  },
  {
   "cell_type": "markdown",
   "id": "25ac7c47-d416-4c68-aac4-3149fad2c7b4",
   "metadata": {},
   "source": [
    "### we are going with yeo-johnson tranformation since log transformation cant handle negatives"
   ]
  },
  {
   "cell_type": "code",
   "execution_count": null,
   "id": "49a3ccd3-1999-46df-a8eb-83059b7abb1e",
   "metadata": {},
   "outputs": [],
   "source": [
    "numerical_cat = X_train.drop(\"ocean_proximity\", axis=1).columns"
   ]
  },
  {
   "cell_type": "code",
   "execution_count": null,
   "id": "feacd967-b836-4d48-8c4b-c145616ef1f6",
   "metadata": {},
   "outputs": [],
   "source": [
    "skewness = X_train[numerical_cat].skew()\n",
    "right_skewed = skewness[skewness>0.5].index.tolist()"
   ]
  },
  {
   "cell_type": "code",
   "execution_count": null,
   "id": "86e99f11-96d4-4130-bb64-756dc8ab337c",
   "metadata": {},
   "outputs": [],
   "source": [
    "pt = PowerTransformer(method=\"yeo-johnson\", standardize=False)\n",
    "pt.fit(X_train[right_skewed])"
   ]
  },
  {
   "cell_type": "code",
   "execution_count": null,
   "id": "a89125e2-d634-4add-a018-901ee5324f20",
   "metadata": {},
   "outputs": [],
   "source": [
    "X_train_pt =pd.DataFrame(pt.transform(X_train[right_skewed]), columns=right_skewed, index=X_train.index)\n",
    "X_test_pt = pd.DataFrame(pt.transform(X_test[right_skewed]), columns=right_skewed, index=X_test.index)"
   ]
  },
  {
   "cell_type": "code",
   "execution_count": null,
   "id": "c9cae1b1-7389-4393-9cc0-77a59e4713cf",
   "metadata": {},
   "outputs": [],
   "source": [
    "X_train[right_skewed] = X_train_pt\n",
    "X_test[right_skewed] = X_test_pt"
   ]
  },
  {
   "cell_type": "markdown",
   "id": "09ed4d28-6026-4734-afb5-2413b61b6ecf",
   "metadata": {},
   "source": [
    "## One-Hot Encoding for Categorical Variables"
   ]
  },
  {
   "cell_type": "code",
   "execution_count": null,
   "id": "394b4144-0ca9-4f20-91e8-e4e83b277134",
   "metadata": {},
   "outputs": [],
   "source": [
    "housing_cat = housing[\"ocean_proximity\"]\n",
    "housing_cat_X_train = X_train[[\"ocean_proximity\"]]\n",
    "housing_cat_X_test = X_test[[\"ocean_proximity\"]]"
   ]
  },
  {
   "cell_type": "code",
   "execution_count": null,
   "id": "0ea6dbe2-d791-4269-8122-ca143198c09f",
   "metadata": {},
   "outputs": [],
   "source": [
    "housing_cat_X_train.value_counts().index"
   ]
  },
  {
   "cell_type": "code",
   "execution_count": null,
   "id": "347573e1-cd14-4a5a-8a63-e6b0c16f67b4",
   "metadata": {},
   "outputs": [],
   "source": [
    "onehotencoder = OneHotEncoder(handle_unknown=\"ignore\")\n",
    "onehotencoder.fit(housing_cat_X_train)\n",
    "housing_cat_X_train = onehotencoder.transform(housing_cat_X_train)\n",
    "housing_cat_X_test = onehotencoder.transform(housing_cat_X_test)"
   ]
  },
  {
   "cell_type": "code",
   "execution_count": null,
   "id": "411dde1c-ae28-4b5c-851e-105e1f421137",
   "metadata": {},
   "outputs": [],
   "source": [
    "housing_cat_X_train = housing_cat_X_train.toarray()\n",
    "housing_cat_X_train.shape"
   ]
  },
  {
   "cell_type": "code",
   "execution_count": null,
   "id": "cbf1da39-02e2-48ac-801c-9ae879d529b7",
   "metadata": {},
   "outputs": [],
   "source": [
    "housing_cat_X_test = housing_cat_X_test.toarray()\n",
    "housing_cat_X_test"
   ]
  },
  {
   "cell_type": "code",
   "execution_count": null,
   "id": "a021915a-d56b-4c44-99ad-a54524c011a1",
   "metadata": {},
   "outputs": [],
   "source": [
    "onehotencoder.feature_names_in_"
   ]
  },
  {
   "cell_type": "code",
   "execution_count": null,
   "id": "ce69410b-50b4-4124-9ab7-91fceef45d20",
   "metadata": {},
   "outputs": [],
   "source": [
    "feature_names = onehotencoder.get_feature_names_out(input_features=[\"ocean_proximity\"])"
   ]
  },
  {
   "cell_type": "code",
   "execution_count": null,
   "id": "08bd2593-8ab7-4c67-93e7-fa667081da18",
   "metadata": {},
   "outputs": [],
   "source": [
    "housing_cat_X_train_df = pd.DataFrame(housing_cat_X_train, columns=feature_names, index=X_train.index)\n",
    "housing_cat_X_test_df = pd.DataFrame(housing_cat_X_test, columns=feature_names, index=X_test.index)"
   ]
  },
  {
   "cell_type": "code",
   "execution_count": null,
   "id": "a2f9d6c0-f160-4912-93ad-e295b1a0e270",
   "metadata": {},
   "outputs": [],
   "source": [
    "X_train = X_train.join(housing_cat_X_train_df)"
   ]
  },
  {
   "cell_type": "code",
   "execution_count": null,
   "id": "003e002d-ff81-44c7-80e4-a5e95890056e",
   "metadata": {},
   "outputs": [],
   "source": [
    "X_test = X_test.join(housing_cat_X_test_df)"
   ]
  },
  {
   "cell_type": "code",
   "execution_count": null,
   "id": "65eea00d-c452-42d5-9c1c-ee66e9762ea1",
   "metadata": {},
   "outputs": [],
   "source": [
    "X_test.drop(columns=[\"ocean_proximity\"], inplace=True)"
   ]
  },
  {
   "cell_type": "code",
   "execution_count": null,
   "id": "64c7432c-5614-4e53-8054-c20bd0376f01",
   "metadata": {},
   "outputs": [],
   "source": [
    "X_train.drop(columns=[\"ocean_proximity\"], inplace=True)"
   ]
  },
  {
   "cell_type": "markdown",
   "id": "351c3557-4073-4fbb-aa34-3ba29281d30b",
   "metadata": {},
   "source": [
    "## Scaling the data"
   ]
  },
  {
   "cell_type": "code",
   "execution_count": null,
   "id": "fceca0db-3afc-4697-a42c-54af90fa07fc",
   "metadata": {},
   "outputs": [],
   "source": [
    "standardscaler = StandardScaler()"
   ]
  },
  {
   "cell_type": "code",
   "execution_count": null,
   "id": "802c31ba-ce67-4551-94ca-25f2e7cceba2",
   "metadata": {},
   "outputs": [],
   "source": [
    "feature_names"
   ]
  },
  {
   "cell_type": "code",
   "execution_count": null,
   "id": "c36c2ecf-9bcd-43bd-b661-671bd75c5267",
   "metadata": {},
   "outputs": [],
   "source": [
    "X_train_ss = X_train.drop(list(feature_names),axis=1)\n",
    "# gives out only Numerical Categories"
   ]
  },
  {
   "cell_type": "code",
   "execution_count": null,
   "id": "f52cd678-5677-4142-981d-f4ef17ff82e0",
   "metadata": {},
   "outputs": [],
   "source": [
    "X_test_ss = X_test.drop(list(feature_names),axis=1)"
   ]
  },
  {
   "cell_type": "code",
   "execution_count": null,
   "id": "1d225c88-0222-4808-a401-85779f4653e3",
   "metadata": {},
   "outputs": [],
   "source": [
    "standardscaler.fit(X_train_ss)"
   ]
  },
  {
   "cell_type": "code",
   "execution_count": null,
   "id": "c82b9927-f424-4415-9fdb-dfbe087790af",
   "metadata": {},
   "outputs": [],
   "source": [
    "X_test_ss_tf = standardscaler.transform(X_test_ss)\n",
    "X_train_ss_tf = standardscaler.transform(X_train_ss)"
   ]
  },
  {
   "cell_type": "code",
   "execution_count": null,
   "id": "c412b45c-4b37-4e87-96c1-c84e7231b39a",
   "metadata": {},
   "outputs": [],
   "source": [
    "X_test_ss = pd.DataFrame(X_test_ss_tf, columns = X_test_ss.columns, index=X_test_ss.index)"
   ]
  },
  {
   "cell_type": "code",
   "execution_count": null,
   "id": "b207d70e-7d31-4afe-9b0a-180ab229b282",
   "metadata": {},
   "outputs": [],
   "source": [
    "X_train_ss = pd.DataFrame(X_train_ss_tf, columns = X_train_ss.columns, index=X_train_ss.index)"
   ]
  },
  {
   "cell_type": "code",
   "execution_count": null,
   "id": "dc109549-26e5-4398-a5ff-ae49d2e00ebd",
   "metadata": {},
   "outputs": [],
   "source": [
    "X_train[X_train_ss.columns] = X_train_ss[X_train_ss.columns]"
   ]
  },
  {
   "cell_type": "code",
   "execution_count": null,
   "id": "176e9dec-9b3d-42f6-a3d2-59d32bc04ad1",
   "metadata": {},
   "outputs": [],
   "source": [
    "X_test[X_test_ss.columns] = X_test_ss[X_test_ss.columns]"
   ]
  },
  {
   "cell_type": "code",
   "execution_count": null,
   "id": "a2dee708-3db2-4ff6-af17-c0cf496ed2e4",
   "metadata": {},
   "outputs": [],
   "source": [
    "X_train"
   ]
  },
  {
   "cell_type": "code",
   "execution_count": null,
   "id": "09765e46-8c6b-4387-9705-03b36afa9368",
   "metadata": {},
   "outputs": [],
   "source": [
    "X_train.hist(bins=50, figsize=(10,8))"
   ]
  },
  {
   "cell_type": "code",
   "execution_count": null,
   "id": "46fc0e6b-a395-4e9a-9950-3abce55b3f38",
   "metadata": {},
   "outputs": [],
   "source": [
    "sns.histplot(X_train[\"dist_to_coast\"],kde=True)"
   ]
  },
  {
   "cell_type": "code",
   "execution_count": null,
   "id": "fcaabcce-810e-4a29-b809-b9e4cbddb4f6",
   "metadata": {},
   "outputs": [],
   "source": [
    "sns.histplot(X_train[[\"dist_to_city\"]], kde=True)"
   ]
  },
  {
   "cell_type": "code",
   "execution_count": null,
   "id": "90a762b4-1e41-46ea-9283-e7bdd0b93d95",
   "metadata": {},
   "outputs": [],
   "source": [
    "sns.histplot(X_train[\"housing_median_age\"], kde=True, bins=50)"
   ]
  },
  {
   "cell_type": "markdown",
   "id": "8f39e311-cb43-4528-acc9-385bcc414522",
   "metadata": {},
   "source": [
    "## Transforming target variable"
   ]
  },
  {
   "cell_type": "code",
   "execution_count": null,
   "id": "83d0d724-b2d4-4e8a-9e42-12ebd5d9ace4",
   "metadata": {},
   "outputs": [],
   "source": [
    "sns.histplot(Y_train, bins=50, kde=True)"
   ]
  },
  {
   "cell_type": "code",
   "execution_count": null,
   "id": "06eb6a8f-883b-4eaf-a4fc-db9e2fcf2bf4",
   "metadata": {},
   "outputs": [],
   "source": [
    "Y_train_log = np.log1p(Y_train)\n",
    "Y_test_log = np.log1p(Y_test)"
   ]
  },
  {
   "cell_type": "code",
   "execution_count": null,
   "id": "34e7080f-5c11-48b0-a83b-08f5a2c02069",
   "metadata": {},
   "outputs": [],
   "source": [
    "sns.histplot(Y_train, bins=50, kde=True)"
   ]
  },
  {
   "cell_type": "markdown",
   "id": "17eb4608-2fbb-42fe-8dbb-dec7308869ee",
   "metadata": {},
   "source": [
    "## Performing Linear Regression"
   ]
  },
  {
   "cell_type": "code",
   "execution_count": null,
   "id": "87100fba-be44-4358-86a7-b4d0df50be9c",
   "metadata": {},
   "outputs": [],
   "source": [
    "lin_reg = LinearRegression()\n",
    "lin_reg.fit(X_train,Y_train_log)"
   ]
  },
  {
   "cell_type": "code",
   "execution_count": null,
   "id": "bd439525-05b2-48b4-9d45-e1ed38b64866",
   "metadata": {},
   "outputs": [],
   "source": [
    "y_pred_log = lin_reg.predict(X_test)\n",
    "y_pred = np.expm1(y_pred_log)"
   ]
  },
  {
   "cell_type": "markdown",
   "id": "6e906769-50e8-403f-ab56-ccf80ed83e83",
   "metadata": {},
   "source": [
    "## Evaluate the Performancefor both log_space and RMSE in dollars"
   ]
  },
  {
   "cell_type": "code",
   "execution_count": null,
   "id": "cab356e5-3915-441d-817b-3fcab631edee",
   "metadata": {},
   "outputs": [],
   "source": [
    "rmse = np.sqrt(mean_squared_error(np.expm1(Y_test_log), y_pred))\n",
    "mae = mean_absolute_error(np.expm1(Y_test_log), y_pred)\n",
    "print(f\"RMSE: {rmse:.2f}, MAE: {mae:.2f}\")\n",
    "\n",
    "r2 = r2_score(Y_test_log, y_pred_log)\n",
    "print(f\"R2 (log-space) : {r2:.3f}\")"
   ]
  },
  {
   "cell_type": "markdown",
   "id": "3aba932d-6e51-49a9-95a1-ffbcfc70ec98",
   "metadata": {},
   "source": [
    "## There is a huge error. instead of linear Regression use Decission Tree Regressor"
   ]
  },
  {
   "cell_type": "code",
   "execution_count": null,
   "id": "a2cd59b3-0920-49f0-9e3f-94f7a6aaf883",
   "metadata": {},
   "outputs": [],
   "source": [
    "tree_reg = DecisionTreeRegressor(max_depth=10, \n",
    "                                 min_samples_split=20,\n",
    "                                 min_samples_leaf=10,\n",
    "                                 random_state=42)\n",
    "tree_reg.fit(X_train,Y_train_log)\n",
    "y_pred_log = tree_reg.predict(X_test)\n",
    "y_pred = np.expm1(y_pred_log)\n",
    "rmse = np.sqrt(mean_squared_error(np.expm1(Y_test_log), y_pred))\n",
    "mae = mean_absolute_error(np.expm1(Y_test_log), y_pred)\n",
    "print(f\"RMSE: {rmse:.2f}, MAE: {mae:.2f}\")\n",
    "\n",
    "r2 = r2_score(Y_test_log, y_pred_log)\n",
    "print(f\"R2 (log-space) : {r2:.3f}\")"
   ]
  },
  {
   "cell_type": "code",
   "execution_count": null,
   "id": "eab7cb8c-1915-48d7-88af-5baf64cbac1d",
   "metadata": {},
   "outputs": [],
   "source": [
    "tree_rmses = -cross_val_score(\n",
    "    tree_reg,\n",
    "    np.expm1(X_train),\n",
    "    np.expm1(Y_train_log),\n",
    "    scoring=\"neg_root_mean_squared_error\",\n",
    "    cv=5\n",
    ")\n",
    "pd.Series(tree_rmses).describe()"
   ]
  },
  {
   "cell_type": "markdown",
   "id": "dd5a83ae-11a2-4204-af2a-b86f6136d864",
   "metadata": {},
   "source": [
    "## Fine-tuning the model"
   ]
  },
  {
   "cell_type": "code",
   "execution_count": null,
   "id": "4ef1eda2-ef34-476a-858d-c2de4b1852af",
   "metadata": {},
   "outputs": [],
   "source": [
    "param_grid = {\n",
    "    \"n_estimators\": [100, 200],\n",
    "    \"max_depth\": [None, 10, 20],\n",
    "    \"min_samples_split\": [2, 5],\n",
    "    \"min_samples_leaf\": [1, 2],\n",
    "    \"max_features\": [\"sqrt\", \"log2\"]\n",
    "}\n",
    "scoring={\n",
    "    \"R2\" : \"r2\",\n",
    "    \"MAE\" : \"neg_mean_absolute_error\",\n",
    "    \"MSE\" : \"neg_mean_squared_error\"\n",
    "}"
   ]
  },
  {
   "cell_type": "code",
   "execution_count": null,
   "id": "9286b38e-245b-41f3-81d1-08c3e471c99c",
   "metadata": {},
   "outputs": [],
   "source": [
    "grid = GridSearchCV(RandomForestRegressor(), param_grid, cv=5,refit=\"R2\",scoring=scoring, n_jobs=-1)\n",
    "grid.fit(X_train,np.expm1(Y_train_log))\n",
    "\n",
    "print(grid.best_params_)\n",
    "print(grid.best_score_)"
   ]
  },
  {
   "cell_type": "code",
   "execution_count": null,
   "id": "1ec7343c-bf04-4f53-9c58-69e59841bc4e",
   "metadata": {},
   "outputs": [],
   "source": [
    "results = grid.cv_results_"
   ]
  },
  {
   "cell_type": "code",
   "execution_count": null,
   "id": "53591fd4-f87f-437a-985a-77755715b078",
   "metadata": {},
   "outputs": [],
   "source": [
    "mean_test_RMSE = np.sqrt(-results[\"mean_test_MSE\"])\n",
    "mean_test_MAE = -results[\"mean_test_MAE\"]\n",
    "\n",
    "best_rmse_idx = mean_test_RMSE.argmin()\n",
    "print(\"Best RMSE: \" , mean_test_RMSE[best_rmse_idx])\n",
    "print(\"parameters for best RMSE:\", results[\"params\"][best_rmse_idx])\n",
    "best_mae_idx = mean_test_MAE.argmin()\n",
    "print(\"Best MAE: \", mean_test_MAE[best_mae_idx])\n",
    "print(\"parameters for best MAE:\", results[\"params\"][best_mae_idx])"
   ]
  },
  {
   "cell_type": "markdown",
   "id": "e35a165f-e6d3-419a-ad6f-6b8ce344cdcf",
   "metadata": {},
   "source": [
    "## lets use Random Seach CV if it gives better parameters"
   ]
  },
  {
   "cell_type": "code",
   "execution_count": null,
   "id": "00d6f768-630f-4f3d-ac70-72ddf55e5873",
   "metadata": {},
   "outputs": [],
   "source": [
    "param_dist = {\n",
    "    \"n_estimators\": np.arange(50,500,50),\n",
    "    \"max_depth\" : [None] + list(np.arange(5,30,5)),\n",
    "    \"min_samples_split\" : np.arange(2,11),\n",
    "    \"min_samples_leaf\" : np.arange(1,11),\n",
    "    \"max_features\" : [None,\"sqrt\",\"log2\"]\n",
    "}\n",
    "scoring={\n",
    "    \"R2\" : \"r2\",\n",
    "    \"MAE\" : \"neg_mean_absolute_error\",\n",
    "    \"MSE\" : \"neg_mean_squared_error\"\n",
    "}"
   ]
  },
  {
   "cell_type": "code",
   "execution_count": null,
   "id": "3e587cab-6b5a-4b80-81a7-ffb85a4599d7",
   "metadata": {},
   "outputs": [],
   "source": [
    "random = RandomizedSearchCV(RandomForestRegressor(),param_dist,n_iter=50,\n",
    "                           scoring=scoring,cv=5,n_jobs=-1,refit=\"R2\")\n",
    "random.fit(X_train,np.expm1(Y_train_log))\n",
    "print(f\"Best Paraeters: {random.best_params_}\")\n",
    "print(f\"Best Score : {random.best_score_}\")"
   ]
  },
  {
   "cell_type": "code",
   "execution_count": null,
   "id": "bd51b7f1-0fdd-451f-85dc-f13a72874e1e",
   "metadata": {},
   "outputs": [],
   "source": [
    "results = random.cv_results_"
   ]
  },
  {
   "cell_type": "code",
   "execution_count": null,
   "id": "18d4b56b-73be-4317-b29a-e3258e7c59c0",
   "metadata": {},
   "outputs": [],
   "source": [
    "mean_test_RMSE = np.sqrt(-results[\"mean_test_MSE\"])\n",
    "mean_test_MAE = -results[\"mean_test_MAE\"]\n",
    "RMSE_index = np.argmin(mean_test_RMSE)\n",
    "print(f\"Best RMSE : {mean_test_RMSE[RMSE_index]}\") \n",
    "print(f\"Best Parameters for Best RMSE : {results[\"params\"][RMSE_index]}\")\n",
    "MAE_index = np.argmin(mean_test_MAE)\n",
    "print(f\"Best MAE : {mean_test_MAE[MAE_index]}\") \n",
    "print(f\"Best Parameters for Best MAE : {results[\"params\"][MAE_index]}\")"
   ]
  },
  {
   "cell_type": "markdown",
   "id": "a43a674e-7d3a-485f-9c9e-63a06de908b2",
   "metadata": {},
   "source": [
    "## Grid Search Cross-Validation gave better results compared to Randomized Search Cross-Validation"
   ]
  },
  {
   "cell_type": "markdown",
   "id": "2cd3b960-c73e-4473-9a3e-4b3e8cba6dcc",
   "metadata": {},
   "source": [
    "### but with just 1% difference it doesnt make any sense to use one over other."
   ]
  },
  {
   "cell_type": "code",
   "execution_count": null,
   "id": "2991d36e-47d5-4495-96b0-92067255d229",
   "metadata": {},
   "outputs": [],
   "source": [
    "y_pred = grid.best_estimator_.predict(X_test)\n",
    "rmse_test = np.sqrt(mean_squared_error(np.expm1(Y_test_log),(y_pred)))\n",
    "print(\"Test RMSE:\", rmse_test)"
   ]
  },
  {
   "cell_type": "code",
   "execution_count": null,
   "id": "6b3f36b6-2b27-48b1-b2a3-5f5d6204dd3b",
   "metadata": {},
   "outputs": [],
   "source": [
    "y_pred_rand = random.best_estimator_.predict(X_test)\n",
    "rmse_test_rand = np.sqrt(mean_squared_error(np.expm1(Y_test_log),(y_pred_rand)))\n",
    "print(\"Test RMSE:\", rmse_test_rand)"
   ]
  },
  {
   "cell_type": "markdown",
   "id": "f6935a86-690e-4c12-a949-2c24b4810dfd",
   "metadata": {},
   "source": [
    "## Final Vizualization"
   ]
  },
  {
   "cell_type": "markdown",
   "id": "0bf53046-97ce-4ebd-ba1f-09423bf4f9ab",
   "metadata": {},
   "source": [
    "### Predicted vs Actual Values"
   ]
  },
  {
   "cell_type": "code",
   "execution_count": null,
   "id": "f6fc9250-b86e-418a-815b-9471bc0695ac",
   "metadata": {},
   "outputs": [],
   "source": [
    "plt.figure(figsize=(8,6))\n",
    "plt.scatter(Y_test,y_pred, alpha=0.6)\n",
    "plt.plot([Y_test.min(), Y_test.max()],[Y_test.min(), Y_test.max()], 'r--')\n",
    "plt.xlabel(\"Actual Values\")\n",
    "plt.ylabel(\"Predicted Values\")\n",
    "plt.title(\"Actual vs Predicted Values\")\n",
    "plt.show()"
   ]
  },
  {
   "cell_type": "markdown",
   "id": "0812ca79-0cfd-4511-9082-be65a1b331f2",
   "metadata": {},
   "source": [
    "## Residual Plot"
   ]
  },
  {
   "cell_type": "code",
   "execution_count": null,
   "id": "175c2d88-be54-4ed5-8040-0a173f685da0",
   "metadata": {},
   "outputs": [],
   "source": [
    "residuals = Y_test - y_pred\n",
    "plt.scatter(y_pred,residuals,alpha=0.6)\n",
    "plt.axhline(y=0, color=\"r\", linestyle=\"--\")\n",
    "plt.xlabel(\"Actual Values\")\n",
    "plt.ylabel(\"Predicted Values\")\n",
    "plt.title(\"Actual vs Predicted Values\")\n",
    "plt.show()"
   ]
  },
  {
   "cell_type": "code",
   "execution_count": null,
   "id": "d49e56fc-5956-4968-9aa1-343782deb935",
   "metadata": {},
   "outputs": [],
   "source": [
    "plt.figure(figsize=(8,6))\n",
    "plt.hist(residuals, bins=30, edgecolor='k', alpha=0.7)\n",
    "plt.xlabel(\"Residual\")\n",
    "plt.ylabel(\"Frequency\")\n",
    "plt.title(\"Residual Distribution\")\n",
    "plt.show()"
   ]
  }
 ],
 "metadata": {
  "kernelspec": {
   "display_name": "Python 3 (ipykernel)",
   "language": "python",
   "name": "python3"
  },
  "language_info": {
   "codemirror_mode": {
    "name": "ipython",
    "version": 3
   },
   "file_extension": ".py",
   "mimetype": "text/x-python",
   "name": "python",
   "nbconvert_exporter": "python",
   "pygments_lexer": "ipython3",
   "version": "3.13.1"
  }
 },
 "nbformat": 4,
 "nbformat_minor": 5
}
